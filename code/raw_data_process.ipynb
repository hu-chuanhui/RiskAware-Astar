{
 "cells": [
  {
   "cell_type": "code",
   "execution_count": 2,
   "id": "020afa75",
   "metadata": {},
   "outputs": [],
   "source": [
    "# collect the AIS data of July 2020 within the interested area\n",
    "# each AIS data should satisfy: 0 < SOG < 102.3 and 0 <= COG < 360.0\n",
    "\n",
    "from os import walk\n",
    "import pandas as pd\n",
    "import time"
   ]
  },
  {
   "cell_type": "code",
   "execution_count": 3,
   "id": "9af405a4",
   "metadata": {
    "scrolled": true
   },
   "outputs": [
    {
     "name": "stdout",
     "output_type": "stream",
     "text": [
      "finished processing AIS_2020_07_02.csv, 13.61317753791809 s\n",
      "finished processing AIS_2020_07_26.csv, 15.455166816711426 s\n"
     ]
    },
    {
     "name": "stderr",
     "output_type": "stream",
     "text": [
      "/home/chuanhui/.local/lib/python3.8/site-packages/IPython/core/interactiveshell.py:3251: DtypeWarning: Columns (0) have mixed types.Specify dtype option on import or set low_memory=False.\n",
      "  exec(code_obj, self.user_global_ns, self.user_ns)\n"
     ]
    },
    {
     "name": "stdout",
     "output_type": "stream",
     "text": [
      "finished processing AIS_2020_07_13.csv, 15.856773853302002 s\n"
     ]
    },
    {
     "name": "stderr",
     "output_type": "stream",
     "text": [
      "b'Skipping line 8728984: expected 17 fields, saw 18\\n'\n"
     ]
    },
    {
     "name": "stdout",
     "output_type": "stream",
     "text": [
      "finished processing AIS_2020_07_16.csv, 16.597671508789062 s\n",
      "finished processing AIS_2020_07_23.csv, 15.45056676864624 s\n",
      "finished processing AIS_2020_07_24.csv, 15.81447720527649 s\n",
      "finished processing AIS_2020_07_19.csv, 17.8783700466156 s\n",
      "finished processing AIS_2020_07_18.csv, 17.655622005462646 s\n"
     ]
    },
    {
     "name": "stderr",
     "output_type": "stream",
     "text": [
      "b'Skipping line 8306302: expected 17 fields, saw 18\\n'\n"
     ]
    },
    {
     "name": "stdout",
     "output_type": "stream",
     "text": [
      "finished processing AIS_2020_07_30.csv, 16.62413716316223 s\n",
      "finished processing AIS_2020_07_27.csv, 17.41132640838623 s\n",
      "finished processing AIS_2020_07_14.csv, 17.30436134338379 s\n",
      "finished processing AIS_2020_07_29.csv, 17.987810611724854 s\n",
      "finished processing AIS_2020_07_31.csv, 17.169045448303223 s\n",
      "finished processing AIS_2020_07_04.csv, 18.011366844177246 s\n",
      "finished processing AIS_2020_07_08.csv, 15.9835946559906 s\n",
      "finished processing AIS_2020_07_20.csv, 15.616462707519531 s\n",
      "finished processing AIS_2020_07_28.csv, 16.532445907592773 s\n",
      "finished processing AIS_2020_07_21.csv, 16.57069730758667 s\n",
      "finished processing AIS_2020_07_12.csv, 18.23329257965088 s\n",
      "finished processing AIS_2020_07_05.csv, 18.570513486862183 s\n",
      "finished processing AIS_2020_07_09.csv, 18.75899600982666 s\n"
     ]
    },
    {
     "name": "stderr",
     "output_type": "stream",
     "text": [
      "b'Skipping line 8611748: expected 17 fields, saw 18\\n'\n"
     ]
    },
    {
     "name": "stdout",
     "output_type": "stream",
     "text": [
      "finished processing AIS_2020_07_11.csv, 17.407156467437744 s\n",
      "finished processing AIS_2020_07_03.csv, 17.48418664932251 s\n",
      "finished processing AIS_2020_07_06.csv, 17.26703429222107 s\n",
      "finished processing AIS_2020_07_17.csv, 17.377418994903564 s\n",
      "finished processing AIS_2020_07_01.csv, 16.467094659805298 s\n",
      "finished processing AIS_2020_07_10.csv, 17.855831146240234 s\n",
      "finished processing AIS_2020_07_22.csv, 17.941707611083984 s\n",
      "finished processing AIS_2020_07_15.csv, 17.522087812423706 s\n",
      "finished processing AIS_2020_07_25.csv, 18.00566077232361 s\n",
      "finished processing AIS_2020_07_07.csv, 17.664019107818604 s\n"
     ]
    }
   ],
   "source": [
    "raw_path = \"../raw_data/\"\n",
    "new_path = \"../processed_data/\"\n",
    "\n",
    "lon_range = (-122.67, -122.22)\n",
    "lat_range = (37.54, 38.17)\n",
    "\n",
    "for (dirpath, dirnames, filenames) in walk(raw_path):\n",
    "    for filename in filenames:\n",
    "        if \".csv\" in filename:\n",
    "            t1 = time.time()\n",
    "            df = pd.read_csv(raw_path + filename, on_bad_lines=\"warn\")\n",
    "            \n",
    "            index_set = set(df.index)\n",
    "            index_set = index_set & set(df.loc[lat_range[0] <= df.loc[:, \"LAT\"]].index)\n",
    "            index_set = index_set & set(df.loc[lat_range[1] >= df.loc[:, \"LAT\"]].index)\n",
    "            index_set = index_set & set(df.loc[lon_range[0] <= df.loc[:, \"LON\"]].index)\n",
    "            index_set = index_set & set(df.loc[lon_range[1] >= df.loc[:, \"LON\"]].index)\n",
    "            \n",
    "            index_set = index_set & set(df.loc[0 <= df.loc[:, \"SOG\"]].index)\n",
    "            index_set = index_set & set(df.loc[102.3 > df.loc[:, \"SOG\"]].index)\n",
    "            index_set = index_set & set(df.loc[0 <= df.loc[:, \"COG\"]].index)\n",
    "            index_set = index_set & set(df.loc[360.0 > df.loc[:, \"COG\"]].index)\n",
    "                \n",
    "            new_df = df.loc[index_set, :\"Heading\"]\n",
    "            new_df.to_csv(new_path + filename, index=False)\n",
    "            print(\"finished processing \" + filename + \",\", time.time() - t1, \"s\")\n",
    "\n",
    "            "
   ]
  },
  {
   "cell_type": "code",
   "execution_count": 3,
   "id": "c279f606",
   "metadata": {},
   "outputs": [
    {
     "name": "stderr",
     "output_type": "stream",
     "text": [
      "/home/chuanhui/.local/lib/python3.8/site-packages/IPython/core/interactiveshell.py:3251: DtypeWarning: Columns (0) have mixed types.Specify dtype option on import or set low_memory=False.\n",
      "  exec(code_obj, self.user_global_ns, self.user_ns)\n",
      "b'Skipping line 8728984: expected 17 fields, saw 18\\n'\n",
      "b'Skipping line 8306302: expected 17 fields, saw 18\\n'\n",
      "b'Skipping line 8611748: expected 17 fields, saw 18\\n'\n"
     ]
    },
    {
     "name": "stdout",
     "output_type": "stream",
     "text": [
      "raw data count:  265872554\n"
     ]
    }
   ],
   "source": [
    "# count raw data\n",
    "raw_path = \"../raw_data/\"\n",
    "new_path = \"../processed_data/\"\n",
    "count = 0\n",
    "for (dirpath, dirnames, filenames) in walk(raw_path):\n",
    "    for filename in filenames:\n",
    "        if \".csv\" in filename:\n",
    "            df = pd.read_csv(raw_path + filename, on_bad_lines=\"warn\")\n",
    "            count += df.shape[0]\n",
    "\n",
    "print(\"raw data count: \", count)"
   ]
  },
  {
   "cell_type": "code",
   "execution_count": 5,
   "id": "a43a2f83",
   "metadata": {
    "scrolled": true
   },
   "outputs": [
    {
     "name": "stdout",
     "output_type": "stream",
     "text": [
      "AIS_2020_07_01.csv length:  88892\n",
      "AIS_2020_07_02.csv length:  80008\n",
      "AIS_2020_07_03.csv length:  89624\n",
      "AIS_2020_07_04.csv length:  86702\n",
      "AIS_2020_07_05.csv length:  91857\n",
      "AIS_2020_07_06.csv length:  92836\n",
      "AIS_2020_07_07.csv length:  89811\n",
      "AIS_2020_07_08.csv length:  89499\n",
      "AIS_2020_07_09.csv length:  100128\n",
      "AIS_2020_07_10.csv length:  98401\n",
      "AIS_2020_07_11.csv length:  97510\n",
      "AIS_2020_07_12.csv length:  100444\n",
      "AIS_2020_07_13.csv length:  94142\n",
      "AIS_2020_07_14.csv length:  88548\n",
      "AIS_2020_07_15.csv length:  94136\n",
      "AIS_2020_07_16.csv length:  94850\n",
      "AIS_2020_07_17.csv length:  95626\n",
      "AIS_2020_07_18.csv length:  91466\n",
      "AIS_2020_07_19.csv length:  87160\n",
      "AIS_2020_07_20.csv length:  84988\n",
      "AIS_2020_07_21.csv length:  89975\n",
      "AIS_2020_07_22.csv length:  89888\n",
      "AIS_2020_07_23.csv length:  95980\n",
      "AIS_2020_07_24.csv length:  97761\n",
      "AIS_2020_07_25.csv length:  93340\n",
      "AIS_2020_07_26.csv length:  94500\n",
      "AIS_2020_07_27.csv length:  96997\n",
      "AIS_2020_07_28.csv length:  90773\n",
      "AIS_2020_07_29.csv length:  90032\n",
      "AIS_2020_07_30.csv length:  93196\n",
      "AIS_2020_07_31.csv length:  92836\n"
     ]
    }
   ],
   "source": [
    "# check processed data\n",
    "for (dirpath, dirnames, filenames) in walk(new_path):\n",
    "    filenames.sort()\n",
    "    for filename in filenames:\n",
    "        if \".csv\" in filename:\n",
    "            t1 = time.time()\n",
    "            df = pd.read_csv(new_path + filename, on_bad_lines=\"warn\")\n",
    "            print(filename, \"length: \", df.shape[0])\n",
    "            \n",
    "            for i in range(df.shape[0]):\n",
    "                MMSI, BaseDateTime, LAT, LON, SOG, COG, Heading = df.loc[i, :\"Heading\"]\n",
    "                if not(lat_range[0] <= LAT <= lat_range[1] and lon_range[0] <= LON <= lon_range[1] and \\\n",
    "                   0 <= SOG < 102.3 and 0 <= COG < 360.0):\n",
    "                    print(filename, i)\n",
    "                    "
   ]
  },
  {
   "cell_type": "code",
   "execution_count": null,
   "id": "69f7783a",
   "metadata": {
    "scrolled": true
   },
   "outputs": [],
   "source": [
    "raw_path = \"../raw_data/\"\n",
    "new_path = \"../processed_data/\"\n",
    "\n",
    "lon_range = (-122.67, -122.22)\n",
    "lat_range = (37.54, 38.17)\n",
    "\n",
    "for (dirpath, dirnames, filenames) in walk(raw_path):\n",
    "    for filename in filenames:\n",
    "        if \".csv\" in filename:\n",
    "            t1 = time.time()\n",
    "            df = pd.read_csv(raw_path + filename, on_bad_lines=\"warn\")\n",
    "            \n",
    "            in_area_id = []\n",
    "            for i in range(0, df.shape[0], 1000):\n",
    "                MMSI, BaseDateTime, LAT, LON, SOG, COG, Heading = df.loc[i, :\"Heading\"]\n",
    "                if lat_range[0] <= LAT <= lat_range[1] and lon_range[0] <= LON <= lon_range[1] and \\\n",
    "                   0 <= SOG < 102.3 and 0 <= COG < 360.0:\n",
    "#                     new_df = new_df.append(df.loc[i, :\"Heading\"])\n",
    "                    in_area_id.append(i)\n",
    "                \n",
    "            new_df = df.loc[in_area_id, :\"Heading\"]\n",
    "            new_df.to_csv(new_path + filename)\n",
    "            print(\"finished processing \" + filename + \",\", time.time() - t1, \"s\")\n",
    "\n",
    "            "
   ]
  },
  {
   "cell_type": "code",
   "execution_count": 7,
   "id": "bcd82b5b",
   "metadata": {},
   "outputs": [
    {
     "data": {
      "text/plain": [
       "638.0"
      ]
     },
     "execution_count": 7,
     "metadata": {},
     "output_type": "execute_result"
    }
   ],
   "source": [
    "df.loc[:, \"Length\"].max()"
   ]
  }
 ],
 "metadata": {
  "kernelspec": {
   "display_name": "Python 3 (ipykernel)",
   "language": "python",
   "name": "python3"
  },
  "language_info": {
   "codemirror_mode": {
    "name": "ipython",
    "version": 3
   },
   "file_extension": ".py",
   "mimetype": "text/x-python",
   "name": "python",
   "nbconvert_exporter": "python",
   "pygments_lexer": "ipython3",
   "version": "3.8.10"
  }
 },
 "nbformat": 4,
 "nbformat_minor": 5
}
